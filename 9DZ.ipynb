{
  "nbformat": 4,
  "nbformat_minor": 0,
  "metadata": {
    "colab": {
      "name": "9DZ_улучшКачестваМодели.ipynb",
      "provenance": [],
      "collapsed_sections": []
    },
    "kernelspec": {
      "name": "python3",
      "display_name": "Python 3"
    },
    "accelerator": "GPU"
  },
  "cells": [
    {
      "cell_type": "markdown",
      "metadata": {
        "id": "hKHOfUNJBMkL",
        "colab_type": "text"
      },
      "source": [
        "Домашняя работа\n",
        "Взять boston house-prices datase (sklearn.datasets.load_boston) и сделать тоже самое для задачи регрессии (попробовать разные алгоритмы, поподбирать параметры, вывести итоговое качество)"
      ]
    },
    {
      "cell_type": "code",
      "metadata": {
        "id": "6fgS49hACOxQ",
        "colab_type": "code",
        "colab": {}
      },
      "source": [
        "from sklearn.datasets import load_boston\n",
        "from sklearn.model_selection import train_test_split\n",
        "from sklearn import metrics\n",
        "import matplotlib.pyplot as plt\n",
        "import numpy as np\n",
        "%matplotlib inline"
      ],
      "execution_count": 0,
      "outputs": []
    },
    {
      "cell_type": "code",
      "metadata": {
        "id": "c79emZ_AC7YK",
        "colab_type": "code",
        "colab": {}
      },
      "source": [
        "import pandas as pd\n"
      ],
      "execution_count": 0,
      "outputs": []
    },
    {
      "cell_type": "code",
      "metadata": {
        "id": "HBNiVZ70GzoW",
        "colab_type": "code",
        "colab": {}
      },
      "source": [
        "from sklearn.metrics import accuracy_score\n",
        "from sklearn.model_selection import cross_val_score\n"
      ],
      "execution_count": 0,
      "outputs": []
    },
    {
      "cell_type": "code",
      "metadata": {
        "id": "zecX0ljwBK5P",
        "colab_type": "code",
        "colab": {}
      },
      "source": [
        "boston=load_boston()\n"
      ],
      "execution_count": 0,
      "outputs": []
    },
    {
      "cell_type": "code",
      "metadata": {
        "id": "rmGcwZowEZCa",
        "colab_type": "code",
        "colab": {}
      },
      "source": [
        "#boston"
      ],
      "execution_count": 0,
      "outputs": []
    },
    {
      "cell_type": "code",
      "metadata": {
        "id": "yaubvkkeECzU",
        "colab_type": "code",
        "colab": {}
      },
      "source": [
        "X = boston.data\n",
        "y = boston.target"
      ],
      "execution_count": 0,
      "outputs": []
    },
    {
      "cell_type": "code",
      "metadata": {
        "id": "hcUA9QHNGNEA",
        "colab_type": "code",
        "colab": {}
      },
      "source": [
        "from sklearn.ensemble import RandomForestRegressor\n"
      ],
      "execution_count": 0,
      "outputs": []
    },
    {
      "cell_type": "code",
      "metadata": {
        "id": "YgsGoJ13CtyI",
        "colab_type": "code",
        "colab": {
          "base_uri": "https://localhost:8080/",
          "height": 301
        },
        "outputId": "8c079c42-6323-42a6-93f4-bc5c23750bf7"
      },
      "source": [
        "best_param = (3, 0.0)\n",
        "\n",
        "for n_neigh in range(3, 30,2):\n",
        "    model = RandomForestRegressor(n_estimators=n_neigh)\n",
        "    results = cross_val_score(model, X, y, cv=10)\n",
        "    avg_average = np.mean(results)\n",
        "    print('Neighbors count: {}\\tAverage result: {}'.format(n_neigh, round(avg_average, 3)))\n",
        "    \n",
        "    if avg_average > best_param[1]:\n",
        "        best_param = (n_neigh, avg_average)\n",
        "\n",
        "print('\\nBest n_neighbors is {}'.format(best_param[0]))"
      ],
      "execution_count": 8,
      "outputs": [
        {
          "output_type": "stream",
          "text": [
            "Neighbors count: 3\tAverage result: 0.164\n",
            "Neighbors count: 5\tAverage result: 0.333\n",
            "Neighbors count: 7\tAverage result: 0.404\n",
            "Neighbors count: 9\tAverage result: 0.433\n",
            "Neighbors count: 11\tAverage result: 0.403\n",
            "Neighbors count: 13\tAverage result: 0.424\n",
            "Neighbors count: 15\tAverage result: 0.474\n",
            "Neighbors count: 17\tAverage result: 0.435\n",
            "Neighbors count: 19\tAverage result: 0.432\n",
            "Neighbors count: 21\tAverage result: 0.416\n",
            "Neighbors count: 23\tAverage result: 0.452\n",
            "Neighbors count: 25\tAverage result: 0.493\n",
            "Neighbors count: 27\tAverage result: 0.484\n",
            "Neighbors count: 29\tAverage result: 0.495\n",
            "\n",
            "Best n_neighbors is 29\n"
          ],
          "name": "stdout"
        }
      ]
    },
    {
      "cell_type": "code",
      "metadata": {
        "id": "1bX3VIiGM_OF",
        "colab_type": "code",
        "colab": {
          "base_uri": "https://localhost:8080/",
          "height": 70
        },
        "outputId": "708e1e7f-ad45-4487-bd4a-138c9e553eb5"
      },
      "source": [
        "model = RandomForestRegressor(n_estimators=21)\n",
        "results = cross_val_score(model, X, y, cv=10)\n",
        "print(results)\n",
        "print('Average result: {}'.format(round(np.mean(results), 3)))"
      ],
      "execution_count": 9,
      "outputs": [
        {
          "output_type": "stream",
          "text": [
            "[ 0.68644487  0.83533368  0.18731126  0.77625671  0.84342157  0.72625407\n",
            "  0.55997667  0.36486681 -0.79627965  0.06602625]\n",
            "Average result: 0.425\n"
          ],
          "name": "stdout"
        }
      ]
    },
    {
      "cell_type": "code",
      "metadata": {
        "id": "r8fy0XLzOAVL",
        "colab_type": "code",
        "colab": {}
      },
      "source": [
        "from sklearn.model_selection import GridSearchCV"
      ],
      "execution_count": 0,
      "outputs": []
    },
    {
      "cell_type": "code",
      "metadata": {
        "id": "wSuITc1CPK6j",
        "colab_type": "code",
        "colab": {}
      },
      "source": [
        "k_est = list(range(19, 25))\n",
        "k_dept = list(range(1, 5))\n",
        "k_leaf = list(range(1, 5))\n"
      ],
      "execution_count": 0,
      "outputs": []
    },
    {
      "cell_type": "code",
      "metadata": {
        "id": "qhJtg3ULTYHQ",
        "colab_type": "code",
        "colab": {}
      },
      "source": [
        "param_grid = dict(n_estimators=k_est,max_depth=k_dept,min_samples_leaf=k_leaf)"
      ],
      "execution_count": 0,
      "outputs": []
    },
    {
      "cell_type": "code",
      "metadata": {
        "id": "TsNm2rUcTaYb",
        "colab_type": "code",
        "colab": {}
      },
      "source": [
        "grid = GridSearchCV(RandomForestRegressor(), param_grid=param_grid)"
      ],
      "execution_count": 0,
      "outputs": []
    },
    {
      "cell_type": "code",
      "metadata": {
        "id": "XY-r6eEiVgyE",
        "colab_type": "code",
        "colab": {
          "base_uri": "https://localhost:8080/",
          "height": 372
        },
        "outputId": "f766f0be-d604-4c59-d3d8-5ce9254d778c"
      },
      "source": [
        "grid.fit(X, y)"
      ],
      "execution_count": 14,
      "outputs": [
        {
          "output_type": "execute_result",
          "data": {
            "text/plain": [
              "GridSearchCV(cv=None, error_score=nan,\n",
              "             estimator=RandomForestRegressor(bootstrap=True, ccp_alpha=0.0,\n",
              "                                             criterion='mse', max_depth=None,\n",
              "                                             max_features='auto',\n",
              "                                             max_leaf_nodes=None,\n",
              "                                             max_samples=None,\n",
              "                                             min_impurity_decrease=0.0,\n",
              "                                             min_impurity_split=None,\n",
              "                                             min_samples_leaf=1,\n",
              "                                             min_samples_split=2,\n",
              "                                             min_weight_fraction_leaf=0.0,\n",
              "                                             n_estimators=100, n_jobs=None,\n",
              "                                             oob_score=False, random_state=None,\n",
              "                                             verbose=0, warm_start=False),\n",
              "             iid='deprecated', n_jobs=None,\n",
              "             param_grid={'max_depth': [1, 2, 3, 4],\n",
              "                         'min_samples_leaf': [1, 2, 3, 4],\n",
              "                         'n_estimators': [19, 20, 21, 22, 23, 24]},\n",
              "             pre_dispatch='2*n_jobs', refit=True, return_train_score=False,\n",
              "             scoring=None, verbose=0)"
            ]
          },
          "metadata": {
            "tags": []
          },
          "execution_count": 14
        }
      ]
    },
    {
      "cell_type": "code",
      "metadata": {
        "id": "WB28sqaZYScT",
        "colab_type": "code",
        "colab": {
          "base_uri": "https://localhost:8080/",
          "height": 301
        },
        "outputId": "a70f71fe-07f6-49a7-be7b-ac09be01745c"
      },
      "source": [
        "for k in grid.cv_results_:\n",
        "    print(k, \":\", grid.cv_results_[k][0])"
      ],
      "execution_count": 15,
      "outputs": [
        {
          "output_type": "stream",
          "text": [
            "mean_fit_time : 0.024444198608398436\n",
            "std_fit_time : 0.004897960830290434\n",
            "mean_score_time : 0.0016184329986572265\n",
            "std_score_time : 8.758778249144803e-05\n",
            "param_max_depth : 1\n",
            "param_min_samples_leaf : 1\n",
            "param_n_estimators : 19\n",
            "params : {'max_depth': 1, 'min_samples_leaf': 1, 'n_estimators': 19}\n",
            "split0_test_score : 0.7214531657330667\n",
            "split1_test_score : 0.6576089894660315\n",
            "split2_test_score : 0.09398630025384647\n",
            "split3_test_score : -0.005370555543249056\n",
            "split4_test_score : -1.3098536507533907\n",
            "mean_test_score : 0.031564849831260976\n",
            "std_test_score : 0.7311007329421417\n",
            "rank_test_score : 83\n"
          ],
          "name": "stdout"
        }
      ]
    },
    {
      "cell_type": "markdown",
      "metadata": {
        "id": "zHZd4qFKZf9x",
        "colab_type": "text"
      },
      "source": [
        ""
      ]
    },
    {
      "cell_type": "code",
      "metadata": {
        "id": "PMRBvMBiZgry",
        "colab_type": "code",
        "colab": {
          "base_uri": "https://localhost:8080/",
          "height": 301
        },
        "outputId": "3dba31fc-967a-4b57-dd30-3a97c4dce40d"
      },
      "source": [
        "test_scores = grid.cv_results_['mean_test_score']\n",
        "print(test_scores)"
      ],
      "execution_count": 16,
      "outputs": [
        {
          "output_type": "stream",
          "text": [
            "[ 0.03156485  0.01705174  0.01078861  0.01151364  0.0643515   0.07346842\n",
            "  0.04773913  0.02153682  0.05424729  0.04994915 -0.05109948  0.04581158\n",
            "  0.00292473  0.02895732  0.05703861 -0.0161893   0.02207166  0.01610667\n",
            "  0.06495661  0.02935303  0.04318836  0.03861358  0.00580783  0.00792011\n",
            "  0.44947548  0.44511834  0.46640393  0.44669946  0.44383781  0.43884051\n",
            "  0.41925925  0.42608543  0.48593727  0.44909557  0.43469479  0.46539758\n",
            "  0.46616917  0.45775052  0.47220748  0.46233678  0.44018672  0.43674022\n",
            "  0.46453129  0.46023715  0.47176252  0.42874508  0.42081966  0.45215258\n",
            "  0.55072359  0.50641827  0.5807664   0.53205703  0.57734725  0.57777515\n",
            "  0.56402468  0.57663766  0.54894184  0.55898061  0.54930515  0.57453608\n",
            "  0.52706558  0.5710407   0.54787297  0.56876126  0.57438658  0.55623384\n",
            "  0.56318043  0.5619816   0.58595639  0.58682691  0.56443213  0.56006517\n",
            "  0.5688181   0.57107201  0.57608358  0.56949348  0.56741014  0.58823107\n",
            "  0.58658281  0.55923025  0.59827541  0.60576609  0.56374544  0.60017524\n",
            "  0.61220151  0.55902392  0.58676034  0.59730742  0.61460319  0.61599951\n",
            "  0.57520288  0.56733914  0.57260775  0.57701109  0.6046398   0.56833984]\n"
          ],
          "name": "stdout"
        }
      ]
    },
    {
      "cell_type": "code",
      "metadata": {
        "id": "1kEOK9HlZiWB",
        "colab_type": "code",
        "colab": {
          "base_uri": "https://localhost:8080/",
          "height": 176
        },
        "outputId": "755f0eb5-08bc-46ec-ff7a-3c8e3ae70a1f"
      },
      "source": [
        "# examine the best model\n",
        "\n",
        "# Single best score achieved across all params (k)\n",
        "print(grid.best_score_)\n",
        "\n",
        "# Dictionary containing the parameters (k) used to generate that score\n",
        "print(grid.best_params_)\n",
        "\n",
        "# Actual model object fit with those best parameters\n",
        "# Shows default parameters that we did not specify\n",
        "print(grid.best_estimator_)"
      ],
      "execution_count": 17,
      "outputs": [
        {
          "output_type": "stream",
          "text": [
            "0.6159995109518693\n",
            "{'max_depth': 4, 'min_samples_leaf': 3, 'n_estimators': 24}\n",
            "RandomForestRegressor(bootstrap=True, ccp_alpha=0.0, criterion='mse',\n",
            "                      max_depth=4, max_features='auto', max_leaf_nodes=None,\n",
            "                      max_samples=None, min_impurity_decrease=0.0,\n",
            "                      min_impurity_split=None, min_samples_leaf=3,\n",
            "                      min_samples_split=2, min_weight_fraction_leaf=0.0,\n",
            "                      n_estimators=24, n_jobs=None, oob_score=False,\n",
            "                      random_state=None, verbose=0, warm_start=False)\n"
          ],
          "name": "stdout"
        }
      ]
    },
    {
      "cell_type": "code",
      "metadata": {
        "id": "avvfz7Iuarr1",
        "colab_type": "code",
        "colab": {}
      },
      "source": [
        ""
      ],
      "execution_count": 0,
      "outputs": []
    },
    {
      "cell_type": "code",
      "metadata": {
        "id": "wbod2mZKasDA",
        "colab_type": "code",
        "colab": {}
      },
      "source": [
        "from sklearn.model_selection import RandomizedSearchCV"
      ],
      "execution_count": 0,
      "outputs": []
    },
    {
      "cell_type": "code",
      "metadata": {
        "id": "RRtRLjcvcPL-",
        "colab_type": "code",
        "colab": {}
      },
      "source": [
        "k_est = list(range(1, 31))\n",
        "k_dept = list(range(1, 31))\n",
        "k_leaf = list(range(1, 31))"
      ],
      "execution_count": 0,
      "outputs": []
    },
    {
      "cell_type": "code",
      "metadata": {
        "id": "ScJqmh2gcWEd",
        "colab_type": "code",
        "colab": {}
      },
      "source": [
        "param_grid = dict(n_estimators=k_est,max_depth=k_dept,min_samples_leaf=k_leaf)"
      ],
      "execution_count": 0,
      "outputs": []
    },
    {
      "cell_type": "code",
      "metadata": {
        "id": "-Gf3JjT6axfq",
        "colab_type": "code",
        "colab": {
          "base_uri": "https://localhost:8080/",
          "height": 585
        },
        "outputId": "13b9353d-0050-4348-c10b-f4e75e85acea"
      },
      "source": [
        "rnd_search = RandomizedSearchCV(RandomForestRegressor(), param_distributions=param_grid)\n",
        "rnd_search.fit(X, y)"
      ],
      "execution_count": 26,
      "outputs": [
        {
          "output_type": "execute_result",
          "data": {
            "text/plain": [
              "RandomizedSearchCV(cv=None, error_score=nan,\n",
              "                   estimator=RandomForestRegressor(bootstrap=True,\n",
              "                                                   ccp_alpha=0.0,\n",
              "                                                   criterion='mse',\n",
              "                                                   max_depth=None,\n",
              "                                                   max_features='auto',\n",
              "                                                   max_leaf_nodes=None,\n",
              "                                                   max_samples=None,\n",
              "                                                   min_impurity_decrease=0.0,\n",
              "                                                   min_impurity_split=None,\n",
              "                                                   min_samples_leaf=1,\n",
              "                                                   min_samples_split=2,\n",
              "                                                   min_weight_fraction_leaf=0.0,\n",
              "                                                   n_estimators=100,\n",
              "                                                   n_jobs=None, oob_score=F...\n",
              "                                                      10, 11, 12, 13, 14, 15,\n",
              "                                                      16, 17, 18, 19, 20, 21,\n",
              "                                                      22, 23, 24, 25, 26, 27,\n",
              "                                                      28, 29, 30],\n",
              "                                        'min_samples_leaf': [1, 2, 3, 4, 5, 6,\n",
              "                                                             7, 8, 9, 10, 11,\n",
              "                                                             12, 13, 14, 15, 16,\n",
              "                                                             17, 18, 19, 20, 21,\n",
              "                                                             22, 23, 24, 25, 26,\n",
              "                                                             27, 28, 29, 30],\n",
              "                                        'n_estimators': [1, 2, 3, 4, 5, 6, 7, 8,\n",
              "                                                         9, 10, 11, 12, 13, 14,\n",
              "                                                         15, 16, 17, 18, 19, 20,\n",
              "                                                         21, 22, 23, 24, 25, 26,\n",
              "                                                         27, 28, 29, 30]},\n",
              "                   pre_dispatch='2*n_jobs', random_state=None, refit=True,\n",
              "                   return_train_score=False, scoring=None, verbose=0)"
            ]
          },
          "metadata": {
            "tags": []
          },
          "execution_count": 26
        }
      ]
    },
    {
      "cell_type": "code",
      "metadata": {
        "id": "y0f4tOW7c7c5",
        "colab_type": "code",
        "colab": {
          "base_uri": "https://localhost:8080/",
          "height": 141
        },
        "outputId": "3ed0f6f1-452f-44bd-d931-40a37dcaad07"
      },
      "source": [
        "rnd_search.best_estimator_"
      ],
      "execution_count": 27,
      "outputs": [
        {
          "output_type": "execute_result",
          "data": {
            "text/plain": [
              "RandomForestRegressor(bootstrap=True, ccp_alpha=0.0, criterion='mse',\n",
              "                      max_depth=8, max_features='auto', max_leaf_nodes=None,\n",
              "                      max_samples=None, min_impurity_decrease=0.0,\n",
              "                      min_impurity_split=None, min_samples_leaf=3,\n",
              "                      min_samples_split=2, min_weight_fraction_leaf=0.0,\n",
              "                      n_estimators=27, n_jobs=None, oob_score=False,\n",
              "                      random_state=None, verbose=0, warm_start=False)"
            ]
          },
          "metadata": {
            "tags": []
          },
          "execution_count": 27
        }
      ]
    },
    {
      "cell_type": "code",
      "metadata": {
        "id": "2ia6GCjKdJXG",
        "colab_type": "code",
        "colab": {
          "base_uri": "https://localhost:8080/",
          "height": 34
        },
        "outputId": "249a5da9-3ba1-4dc5-ff52-e26c8f548c10"
      },
      "source": [
        "rnd_search.best_params_"
      ],
      "execution_count": 28,
      "outputs": [
        {
          "output_type": "execute_result",
          "data": {
            "text/plain": [
              "{'max_depth': 8, 'min_samples_leaf': 3, 'n_estimators': 27}"
            ]
          },
          "metadata": {
            "tags": []
          },
          "execution_count": 28
        }
      ]
    },
    {
      "cell_type": "code",
      "metadata": {
        "id": "MeXxOS7qdQR1",
        "colab_type": "code",
        "colab": {
          "base_uri": "https://localhost:8080/",
          "height": 34
        },
        "outputId": "6dd862aa-edd8-414c-f230-183d0abb927b"
      },
      "source": [
        "rnd_search.best_score_"
      ],
      "execution_count": 29,
      "outputs": [
        {
          "output_type": "execute_result",
          "data": {
            "text/plain": [
              "0.6359599188553495"
            ]
          },
          "metadata": {
            "tags": []
          },
          "execution_count": 29
        }
      ]
    }
  ]
}